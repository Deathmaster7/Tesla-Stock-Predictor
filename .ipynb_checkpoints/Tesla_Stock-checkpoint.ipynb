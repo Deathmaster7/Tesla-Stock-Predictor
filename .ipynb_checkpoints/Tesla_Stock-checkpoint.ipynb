{
 "cells": [
  {
   "cell_type": "code",
   "execution_count": 1,
   "id": "19fd8660-ba6d-4232-af12-13a1ac9e1bc2",
   "metadata": {},
   "outputs": [
    {
     "name": "stdout",
     "output_type": "stream",
     "text": [
      "[*********************100%%**********************]  1 of 1 completed\n"
     ]
    }
   ],
   "source": [
    "import numpy as np\n",
    "import pandas as pd\n",
    "\n",
    "import yfinance as yf\n",
    "yf.pdr_override() # <== that's all it takes :-)\n",
    "from pandas_datareader import data as pdr\n",
    "\n",
    "stock = pdr.get_data_yahoo('AAPL', start='2011-07-01', end = '2020-12-28')"
   ]
  },
  {
   "cell_type": "code",
   "execution_count": 2,
   "id": "db11513c-6a90-41f9-ae9b-aa6ecdd0d069",
   "metadata": {},
   "outputs": [
    {
     "data": {
      "text/html": [
       "<div>\n",
       "<style scoped>\n",
       "    .dataframe tbody tr th:only-of-type {\n",
       "        vertical-align: middle;\n",
       "    }\n",
       "\n",
       "    .dataframe tbody tr th {\n",
       "        vertical-align: top;\n",
       "    }\n",
       "\n",
       "    .dataframe thead th {\n",
       "        text-align: right;\n",
       "    }\n",
       "</style>\n",
       "<table border=\"1\" class=\"dataframe\">\n",
       "  <thead>\n",
       "    <tr style=\"text-align: right;\">\n",
       "      <th></th>\n",
       "      <th>Open</th>\n",
       "      <th>High</th>\n",
       "      <th>Low</th>\n",
       "      <th>Close</th>\n",
       "      <th>Adj Close</th>\n",
       "      <th>Volume</th>\n",
       "    </tr>\n",
       "    <tr>\n",
       "      <th>Date</th>\n",
       "      <th></th>\n",
       "      <th></th>\n",
       "      <th></th>\n",
       "      <th></th>\n",
       "      <th></th>\n",
       "      <th></th>\n",
       "    </tr>\n",
       "  </thead>\n",
       "  <tbody>\n",
       "    <tr>\n",
       "      <th>2011-07-01</th>\n",
       "      <td>11.998214</td>\n",
       "      <td>12.267857</td>\n",
       "      <td>11.935714</td>\n",
       "      <td>12.259286</td>\n",
       "      <td>10.391948</td>\n",
       "      <td>435313200</td>\n",
       "    </tr>\n",
       "    <tr>\n",
       "      <th>2011-07-05</th>\n",
       "      <td>12.250000</td>\n",
       "      <td>12.493929</td>\n",
       "      <td>12.232143</td>\n",
       "      <td>12.479643</td>\n",
       "      <td>10.578743</td>\n",
       "      <td>355054000</td>\n",
       "    </tr>\n",
       "    <tr>\n",
       "      <th>2011-07-06</th>\n",
       "      <td>12.462500</td>\n",
       "      <td>12.646429</td>\n",
       "      <td>12.382500</td>\n",
       "      <td>12.562857</td>\n",
       "      <td>10.649278</td>\n",
       "      <td>444626000</td>\n",
       "    </tr>\n",
       "    <tr>\n",
       "      <th>2011-07-07</th>\n",
       "      <td>12.666786</td>\n",
       "      <td>12.785714</td>\n",
       "      <td>12.642857</td>\n",
       "      <td>12.757143</td>\n",
       "      <td>10.813970</td>\n",
       "      <td>399663600</td>\n",
       "    </tr>\n",
       "    <tr>\n",
       "      <th>2011-07-08</th>\n",
       "      <td>12.619286</td>\n",
       "      <td>12.857143</td>\n",
       "      <td>12.578571</td>\n",
       "      <td>12.846786</td>\n",
       "      <td>10.889959</td>\n",
       "      <td>489633200</td>\n",
       "    </tr>\n",
       "    <tr>\n",
       "      <th>...</th>\n",
       "      <td>...</td>\n",
       "      <td>...</td>\n",
       "      <td>...</td>\n",
       "      <td>...</td>\n",
       "      <td>...</td>\n",
       "      <td>...</td>\n",
       "    </tr>\n",
       "    <tr>\n",
       "      <th>2020-12-18</th>\n",
       "      <td>128.960007</td>\n",
       "      <td>129.100006</td>\n",
       "      <td>126.120003</td>\n",
       "      <td>126.660004</td>\n",
       "      <td>124.461899</td>\n",
       "      <td>192541500</td>\n",
       "    </tr>\n",
       "    <tr>\n",
       "      <th>2020-12-21</th>\n",
       "      <td>125.019997</td>\n",
       "      <td>128.309998</td>\n",
       "      <td>123.449997</td>\n",
       "      <td>128.229996</td>\n",
       "      <td>126.004623</td>\n",
       "      <td>121251600</td>\n",
       "    </tr>\n",
       "    <tr>\n",
       "      <th>2020-12-22</th>\n",
       "      <td>131.610001</td>\n",
       "      <td>134.410004</td>\n",
       "      <td>129.649994</td>\n",
       "      <td>131.880005</td>\n",
       "      <td>129.591293</td>\n",
       "      <td>168904800</td>\n",
       "    </tr>\n",
       "    <tr>\n",
       "      <th>2020-12-23</th>\n",
       "      <td>132.160004</td>\n",
       "      <td>132.429993</td>\n",
       "      <td>130.779999</td>\n",
       "      <td>130.960007</td>\n",
       "      <td>128.687256</td>\n",
       "      <td>88223700</td>\n",
       "    </tr>\n",
       "    <tr>\n",
       "      <th>2020-12-24</th>\n",
       "      <td>131.320007</td>\n",
       "      <td>133.460007</td>\n",
       "      <td>131.100006</td>\n",
       "      <td>131.970001</td>\n",
       "      <td>129.679733</td>\n",
       "      <td>54930100</td>\n",
       "    </tr>\n",
       "  </tbody>\n",
       "</table>\n",
       "<p>2388 rows × 6 columns</p>\n",
       "</div>"
      ],
      "text/plain": [
       "                  Open        High         Low       Close   Adj Close  \\\n",
       "Date                                                                     \n",
       "2011-07-01   11.998214   12.267857   11.935714   12.259286   10.391948   \n",
       "2011-07-05   12.250000   12.493929   12.232143   12.479643   10.578743   \n",
       "2011-07-06   12.462500   12.646429   12.382500   12.562857   10.649278   \n",
       "2011-07-07   12.666786   12.785714   12.642857   12.757143   10.813970   \n",
       "2011-07-08   12.619286   12.857143   12.578571   12.846786   10.889959   \n",
       "...                ...         ...         ...         ...         ...   \n",
       "2020-12-18  128.960007  129.100006  126.120003  126.660004  124.461899   \n",
       "2020-12-21  125.019997  128.309998  123.449997  128.229996  126.004623   \n",
       "2020-12-22  131.610001  134.410004  129.649994  131.880005  129.591293   \n",
       "2020-12-23  132.160004  132.429993  130.779999  130.960007  128.687256   \n",
       "2020-12-24  131.320007  133.460007  131.100006  131.970001  129.679733   \n",
       "\n",
       "               Volume  \n",
       "Date                   \n",
       "2011-07-01  435313200  \n",
       "2011-07-05  355054000  \n",
       "2011-07-06  444626000  \n",
       "2011-07-07  399663600  \n",
       "2011-07-08  489633200  \n",
       "...               ...  \n",
       "2020-12-18  192541500  \n",
       "2020-12-21  121251600  \n",
       "2020-12-22  168904800  \n",
       "2020-12-23   88223700  \n",
       "2020-12-24   54930100  \n",
       "\n",
       "[2388 rows x 6 columns]"
      ]
     },
     "execution_count": 2,
     "metadata": {},
     "output_type": "execute_result"
    }
   ],
   "source": [
    "stock"
   ]
  },
  {
   "cell_type": "code",
   "execution_count": 3,
   "id": "7a7df156-abcc-4649-9508-04b6f623c5a5",
   "metadata": {},
   "outputs": [],
   "source": [
    "stock = stock.drop('Adj Close', axis=1)"
   ]
  },
  {
   "cell_type": "code",
   "execution_count": 4,
   "id": "04d2dafb-c674-4f30-a16a-b168908890b0",
   "metadata": {},
   "outputs": [
    {
     "data": {
      "text/html": [
       "<div>\n",
       "<style scoped>\n",
       "    .dataframe tbody tr th:only-of-type {\n",
       "        vertical-align: middle;\n",
       "    }\n",
       "\n",
       "    .dataframe tbody tr th {\n",
       "        vertical-align: top;\n",
       "    }\n",
       "\n",
       "    .dataframe thead th {\n",
       "        text-align: right;\n",
       "    }\n",
       "</style>\n",
       "<table border=\"1\" class=\"dataframe\">\n",
       "  <thead>\n",
       "    <tr style=\"text-align: right;\">\n",
       "      <th></th>\n",
       "      <th>Open</th>\n",
       "      <th>High</th>\n",
       "      <th>Low</th>\n",
       "      <th>Close</th>\n",
       "      <th>Volume</th>\n",
       "    </tr>\n",
       "    <tr>\n",
       "      <th>Date</th>\n",
       "      <th></th>\n",
       "      <th></th>\n",
       "      <th></th>\n",
       "      <th></th>\n",
       "      <th></th>\n",
       "    </tr>\n",
       "  </thead>\n",
       "  <tbody>\n",
       "    <tr>\n",
       "      <th>2011-07-01</th>\n",
       "      <td>11.998214</td>\n",
       "      <td>12.267857</td>\n",
       "      <td>11.935714</td>\n",
       "      <td>12.259286</td>\n",
       "      <td>435313200</td>\n",
       "    </tr>\n",
       "    <tr>\n",
       "      <th>2011-07-05</th>\n",
       "      <td>12.250000</td>\n",
       "      <td>12.493929</td>\n",
       "      <td>12.232143</td>\n",
       "      <td>12.479643</td>\n",
       "      <td>355054000</td>\n",
       "    </tr>\n",
       "    <tr>\n",
       "      <th>2011-07-06</th>\n",
       "      <td>12.462500</td>\n",
       "      <td>12.646429</td>\n",
       "      <td>12.382500</td>\n",
       "      <td>12.562857</td>\n",
       "      <td>444626000</td>\n",
       "    </tr>\n",
       "    <tr>\n",
       "      <th>2011-07-07</th>\n",
       "      <td>12.666786</td>\n",
       "      <td>12.785714</td>\n",
       "      <td>12.642857</td>\n",
       "      <td>12.757143</td>\n",
       "      <td>399663600</td>\n",
       "    </tr>\n",
       "    <tr>\n",
       "      <th>2011-07-08</th>\n",
       "      <td>12.619286</td>\n",
       "      <td>12.857143</td>\n",
       "      <td>12.578571</td>\n",
       "      <td>12.846786</td>\n",
       "      <td>489633200</td>\n",
       "    </tr>\n",
       "  </tbody>\n",
       "</table>\n",
       "</div>"
      ],
      "text/plain": [
       "                 Open       High        Low      Close     Volume\n",
       "Date                                                             \n",
       "2011-07-01  11.998214  12.267857  11.935714  12.259286  435313200\n",
       "2011-07-05  12.250000  12.493929  12.232143  12.479643  355054000\n",
       "2011-07-06  12.462500  12.646429  12.382500  12.562857  444626000\n",
       "2011-07-07  12.666786  12.785714  12.642857  12.757143  399663600\n",
       "2011-07-08  12.619286  12.857143  12.578571  12.846786  489633200"
      ]
     },
     "execution_count": 4,
     "metadata": {},
     "output_type": "execute_result"
    }
   ],
   "source": [
    "stock.head()"
   ]
  },
  {
   "cell_type": "code",
   "execution_count": 5,
   "id": "8a9af84a-57cb-4481-a955-15a976472b1c",
   "metadata": {},
   "outputs": [
    {
     "name": "stdout",
     "output_type": "stream",
     "text": [
      "<class 'pandas.core.frame.DataFrame'>\n",
      "DatetimeIndex: 2388 entries, 2011-07-01 to 2020-12-24\n",
      "Data columns (total 5 columns):\n",
      " #   Column  Non-Null Count  Dtype  \n",
      "---  ------  --------------  -----  \n",
      " 0   Open    2388 non-null   float64\n",
      " 1   High    2388 non-null   float64\n",
      " 2   Low     2388 non-null   float64\n",
      " 3   Close   2388 non-null   float64\n",
      " 4   Volume  2388 non-null   int64  \n",
      "dtypes: float64(4), int64(1)\n",
      "memory usage: 111.9 KB\n"
     ]
    }
   ],
   "source": [
    "stock.info()"
   ]
  },
  {
   "cell_type": "code",
   "execution_count": 6,
   "id": "960bea4b-7367-4652-bcdd-00ab2ba86957",
   "metadata": {},
   "outputs": [
    {
     "data": {
      "text/html": [
       "<div>\n",
       "<style scoped>\n",
       "    .dataframe tbody tr th:only-of-type {\n",
       "        vertical-align: middle;\n",
       "    }\n",
       "\n",
       "    .dataframe tbody tr th {\n",
       "        vertical-align: top;\n",
       "    }\n",
       "\n",
       "    .dataframe thead th {\n",
       "        text-align: right;\n",
       "    }\n",
       "</style>\n",
       "<table border=\"1\" class=\"dataframe\">\n",
       "  <thead>\n",
       "    <tr style=\"text-align: right;\">\n",
       "      <th></th>\n",
       "      <th>Open</th>\n",
       "      <th>High</th>\n",
       "      <th>Low</th>\n",
       "      <th>Close</th>\n",
       "      <th>Volume</th>\n",
       "    </tr>\n",
       "  </thead>\n",
       "  <tbody>\n",
       "    <tr>\n",
       "      <th>count</th>\n",
       "      <td>2388.000000</td>\n",
       "      <td>2388.000000</td>\n",
       "      <td>2388.000000</td>\n",
       "      <td>2388.000000</td>\n",
       "      <td>2.388000e+03</td>\n",
       "    </tr>\n",
       "    <tr>\n",
       "      <th>mean</th>\n",
       "      <td>37.305857</td>\n",
       "      <td>37.695410</td>\n",
       "      <td>36.920376</td>\n",
       "      <td>37.323441</td>\n",
       "      <td>2.451007e+08</td>\n",
       "    </tr>\n",
       "    <tr>\n",
       "      <th>std</th>\n",
       "      <td>24.122483</td>\n",
       "      <td>24.463631</td>\n",
       "      <td>23.774851</td>\n",
       "      <td>24.138893</td>\n",
       "      <td>1.939921e+08</td>\n",
       "    </tr>\n",
       "    <tr>\n",
       "      <th>min</th>\n",
       "      <td>11.998214</td>\n",
       "      <td>12.267857</td>\n",
       "      <td>11.935714</td>\n",
       "      <td>12.259286</td>\n",
       "      <td>4.544800e+07</td>\n",
       "    </tr>\n",
       "    <tr>\n",
       "      <th>25%</th>\n",
       "      <td>21.019106</td>\n",
       "      <td>21.227500</td>\n",
       "      <td>20.738660</td>\n",
       "      <td>20.933481</td>\n",
       "      <td>1.127860e+08</td>\n",
       "    </tr>\n",
       "    <tr>\n",
       "      <th>50%</th>\n",
       "      <td>28.995000</td>\n",
       "      <td>29.201250</td>\n",
       "      <td>28.722500</td>\n",
       "      <td>28.942500</td>\n",
       "      <td>1.762364e+08</td>\n",
       "    </tr>\n",
       "    <tr>\n",
       "      <th>75%</th>\n",
       "      <td>44.741250</td>\n",
       "      <td>45.122499</td>\n",
       "      <td>44.409999</td>\n",
       "      <td>44.729374</td>\n",
       "      <td>3.094433e+08</td>\n",
       "    </tr>\n",
       "    <tr>\n",
       "      <th>max</th>\n",
       "      <td>137.589996</td>\n",
       "      <td>137.979996</td>\n",
       "      <td>131.100006</td>\n",
       "      <td>134.179993</td>\n",
       "      <td>1.506120e+09</td>\n",
       "    </tr>\n",
       "  </tbody>\n",
       "</table>\n",
       "</div>"
      ],
      "text/plain": [
       "              Open         High          Low        Close        Volume\n",
       "count  2388.000000  2388.000000  2388.000000  2388.000000  2.388000e+03\n",
       "mean     37.305857    37.695410    36.920376    37.323441  2.451007e+08\n",
       "std      24.122483    24.463631    23.774851    24.138893  1.939921e+08\n",
       "min      11.998214    12.267857    11.935714    12.259286  4.544800e+07\n",
       "25%      21.019106    21.227500    20.738660    20.933481  1.127860e+08\n",
       "50%      28.995000    29.201250    28.722500    28.942500  1.762364e+08\n",
       "75%      44.741250    45.122499    44.409999    44.729374  3.094433e+08\n",
       "max     137.589996   137.979996   131.100006   134.179993  1.506120e+09"
      ]
     },
     "execution_count": 6,
     "metadata": {},
     "output_type": "execute_result"
    }
   ],
   "source": [
    "stock.describe()"
   ]
  },
  {
   "cell_type": "code",
   "execution_count": 7,
   "id": "13456333-5bed-4766-af78-79348cf0ec30",
   "metadata": {},
   "outputs": [],
   "source": [
    "stock.to_csv('applekidetail.csv')"
   ]
  },
  {
   "cell_type": "code",
   "execution_count": 8,
   "id": "ff206552-46ff-4498-bd14-2b38488c5d79",
   "metadata": {},
   "outputs": [],
   "source": [
    "%matplotlib inline"
   ]
  },
  {
   "cell_type": "code",
   "execution_count": 9,
   "id": "58bbe0be-c386-4e94-8931-142230283070",
   "metadata": {},
   "outputs": [
    {
     "data": {
      "text/plain": [
       "array([[<Axes: title={'center': 'Open'}>,\n",
       "        <Axes: title={'center': 'High'}>],\n",
       "       [<Axes: title={'center': 'Low'}>,\n",
       "        <Axes: title={'center': 'Close'}>],\n",
       "       [<Axes: title={'center': 'Volume'}>, <Axes: >]], dtype=object)"
      ]
     },
     "execution_count": 9,
     "metadata": {},
     "output_type": "execute_result"
    },
    {
     "data": {
      "image/png": "[encoded data removed]",
      "text/plain": [
       "<Figure size 1200x800 with 6 Axes>"
      ]
     },
     "metadata": {},
     "output_type": "display_data"
    }
   ],
   "source": [
    "import matplotlib as plt\n",
    "stock.hist(bins=50, figsize=(12,8))"
   ]
  },
  {
   "cell_type": "markdown",
   "id": "a6709558-80b6-4736-8162-dbb76f1643c8",
   "metadata": {},
   "source": [
    "## Train Test Splitting"
   ]
  },
  {
   "cell_type": "code",
   "execution_count": 10,
   "id": "ae1e4798-2d70-4710-9906-2d6816ebe087",
   "metadata": {},
   "outputs": [
    {
     "name": "stdout",
     "output_type": "stream",
     "text": [
      "Rows in train: 1910\n",
      "Rows in test : 478\n"
     ]
    }
   ],
   "source": [
    "from sklearn.model_selection import train_test_split\n",
    "train_set, test_set = train_test_split(stock, test_size=0.2, random_state=42)\n",
    "print(f\"Rows in train: {len(train_set)}\\nRows in test : {len(test_set)}\")"
   ]
  },
  {
   "cell_type": "code",
   "execution_count": 11,
   "id": "bbe46585-81d4-4a47-8bc4-5934d39e36ba",
   "metadata": {},
   "outputs": [],
   "source": [
    "stock = train_set.copy()"
   ]
  },
  {
   "cell_type": "markdown",
   "id": "d08a15fa-5eb3-4694-89dd-6408027fae86",
   "metadata": {},
   "source": [
    "## Looking for correlation"
   ]
  },
  {
   "cell_type": "code",
   "execution_count": 12,
   "id": "9b508031-b463-4507-9b0f-173d545e101d",
   "metadata": {},
   "outputs": [
    {
     "data": {
      "text/plain": [
       "Close     1.000000\n",
       "Low       0.999798\n",
       "High      0.999773\n",
       "Open      0.999558\n",
       "Volume   -0.428990\n",
       "Name: Close, dtype: float64"
      ]
     },
     "execution_count": 12,
     "metadata": {},
     "output_type": "execute_result"
    }
   ],
   "source": [
    "corr_matrix = stock.corr()\n",
    "corr_matrix['Close'].sort_values(ascending=False)"
   ]
  },
  {
   "cell_type": "code",
   "execution_count": 13,
   "id": "72efe98d-6649-4d54-a3a2-4bcc3051f2d8",
   "metadata": {},
   "outputs": [
    {
     "data": {
      "text/plain": [
       "array([[<Axes: xlabel='High', ylabel='High'>,\n",
       "        <Axes: xlabel='Low', ylabel='High'>],\n",
       "       [<Axes: xlabel='High', ylabel='Low'>,\n",
       "        <Axes: xlabel='Low', ylabel='Low'>]], dtype=object)"
      ]
     },
     "execution_count": 13,
     "metadata": {},
     "output_type": "execute_result"
    },
    {
     "data": {
      "image/png": "[encoded data removed]",
      "text/plain": [
       "<Figure size 1200x800 with 4 Axes>"
      ]
     },
     "metadata": {},
     "output_type": "display_data"
    }
   ],
   "source": [
    "from pandas.plotting import scatter_matrix\n",
    "attributes = [\"High\", \"Low\"]\n",
    "scatter_matrix(stock[attributes], figsize=(12, 8))"
   ]
  },
  {
   "cell_type": "markdown",
   "id": "22497c31-c545-4f3c-b2b3-91742b0e961a",
   "metadata": {},
   "source": [
    "## Trying out attributes"
   ]
  },
  {
   "cell_type": "code",
   "execution_count": 14,
   "id": "ee38875e-deac-4758-87fe-1ff3f959bac3",
   "metadata": {},
   "outputs": [],
   "source": [
    "stock['OpenHigh']=stock['Open']/stock['High']"
   ]
  },
  {
   "cell_type": "code",
   "execution_count": 15,
   "id": "1feaf52e-7c3c-45c5-bf3f-51c1bc86fe19",
   "metadata": {},
   "outputs": [
    {
     "data": {
      "text/plain": [
       "Close       1.000000\n",
       "Low         0.999798\n",
       "High        0.999773\n",
       "Open        0.999558\n",
       "OpenHigh   -0.143791\n",
       "Volume     -0.428990\n",
       "Name: Close, dtype: float64"
      ]
     },
     "execution_count": 15,
     "metadata": {},
     "output_type": "execute_result"
    }
   ],
   "source": [
    "corr_matrix = stock.corr()\n",
    "corr_matrix['Close'].sort_values(ascending=False)"
   ]
  },
  {
   "cell_type": "code",
   "execution_count": 16,
   "id": "e013d919-ba93-484e-9279-57b9a8116123",
   "metadata": {},
   "outputs": [],
   "source": [
    "stock = train_set.drop('Close', axis=1)\n",
    "stock_labels = train_set['Close'].copy()"
   ]
  },
  {
   "cell_type": "markdown",
   "id": "956062f6-91e1-4d79-b684-f984385361ae",
   "metadata": {},
   "source": [
    "## Pipeline"
   ]
  },
  {
   "cell_type": "code",
   "execution_count": 17,
   "id": "4b37133d-cd89-4cfd-9d90-4854dcb2ee93",
   "metadata": {},
   "outputs": [],
   "source": [
    "from sklearn.pipeline import Pipeline\n",
    "from sklearn.preprocessing import StandardScaler"
   ]
  },
  {
   "cell_type": "code",
   "execution_count": 18,
   "id": "a2bc4575-d687-4764-931b-b4ec21f4e35e",
   "metadata": {},
   "outputs": [],
   "source": [
    "my_pipeline = Pipeline([\n",
    "    ('stdscaler', StandardScaler())\n",
    "])"
   ]
  },
  {
   "cell_type": "code",
   "execution_count": 19,
   "id": "ed62db7b-c12e-4669-9437-9233be87a1d0",
   "metadata": {},
   "outputs": [
    {
     "data": {
      "text/html": [
       "<div>\n",
       "<style scoped>\n",
       "    .dataframe tbody tr th:only-of-type {\n",
       "        vertical-align: middle;\n",
       "    }\n",
       "\n",
       "    .dataframe tbody tr th {\n",
       "        vertical-align: top;\n",
       "    }\n",
       "\n",
       "    .dataframe thead th {\n",
       "        text-align: right;\n",
       "    }\n",
       "</style>\n",
       "<table border=\"1\" class=\"dataframe\">\n",
       "  <thead>\n",
       "    <tr style=\"text-align: right;\">\n",
       "      <th></th>\n",
       "      <th>Open</th>\n",
       "      <th>High</th>\n",
       "      <th>Low</th>\n",
       "      <th>Volume</th>\n",
       "    </tr>\n",
       "    <tr>\n",
       "      <th>Date</th>\n",
       "      <th></th>\n",
       "      <th></th>\n",
       "      <th></th>\n",
       "      <th></th>\n",
       "    </tr>\n",
       "  </thead>\n",
       "  <tbody>\n",
       "    <tr>\n",
       "      <th>2015-06-03</th>\n",
       "      <td>32.665001</td>\n",
       "      <td>32.735001</td>\n",
       "      <td>32.474998</td>\n",
       "      <td>123934000</td>\n",
       "    </tr>\n",
       "    <tr>\n",
       "      <th>2015-08-11</th>\n",
       "      <td>29.452499</td>\n",
       "      <td>29.545000</td>\n",
       "      <td>28.332500</td>\n",
       "      <td>388331200</td>\n",
       "    </tr>\n",
       "    <tr>\n",
       "      <th>2012-08-03</th>\n",
       "      <td>21.915358</td>\n",
       "      <td>22.070715</td>\n",
       "      <td>21.841429</td>\n",
       "      <td>344920800</td>\n",
       "    </tr>\n",
       "    <tr>\n",
       "      <th>2014-08-12</th>\n",
       "      <td>24.010000</td>\n",
       "      <td>24.219999</td>\n",
       "      <td>23.902500</td>\n",
       "      <td>135180000</td>\n",
       "    </tr>\n",
       "    <tr>\n",
       "      <th>2014-03-13</th>\n",
       "      <td>19.194286</td>\n",
       "      <td>19.273571</td>\n",
       "      <td>18.898571</td>\n",
       "      <td>257742800</td>\n",
       "    </tr>\n",
       "  </tbody>\n",
       "</table>\n",
       "</div>"
      ],
      "text/plain": [
       "                 Open       High        Low     Volume\n",
       "Date                                                  \n",
       "2015-06-03  32.665001  32.735001  32.474998  123934000\n",
       "2015-08-11  29.452499  29.545000  28.332500  388331200\n",
       "2012-08-03  21.915358  22.070715  21.841429  344920800\n",
       "2014-08-12  24.010000  24.219999  23.902500  135180000\n",
       "2014-03-13  19.194286  19.273571  18.898571  257742800"
      ]
     },
     "execution_count": 19,
     "metadata": {},
     "output_type": "execute_result"
    }
   ],
   "source": [
    "stock.head()"
   ]
  },
  {
   "cell_type": "code",
   "execution_count": 20,
   "id": "2a1c973d-2104-41f9-9e23-5df7fa9684fe",
   "metadata": {},
   "outputs": [],
   "source": [
    "stock_num_tr = my_pipeline.fit_transform(stock)"
   ]
  },
  {
   "cell_type": "code",
   "execution_count": 21,
   "id": "b2343d67-066b-4960-abc7-cf00a7132a56",
   "metadata": {},
   "outputs": [
    {
     "data": {
      "text/html": [
       "<style>#sk-container-id-1 {color: black;}#sk-container-id-1 pre{padding: 0;}#sk-container-id-1 div.sk-toggleable {background-color: white;}#sk-container-id-1 label.sk-toggleable__label {cursor: pointer;display: block;width: 100%;margin-bottom: 0;padding: 0.3em;box-sizing: border-box;text-align: center;}#sk-container-id-1 label.sk-toggleable__label-arrow:before {content: \"▸\";float: left;margin-right: 0.25em;color: #696969;}#sk-container-id-1 label.sk-toggleable__label-arrow:hover:before {color: black;}#sk-container-id-1 div.sk-estimator:hover label.sk-toggleable__label-arrow:before {color: black;}#sk-container-id-1 div.sk-toggleable__content {max-height: 0;max-width: 0;overflow: hidden;text-align: left;background-color: #f0f8ff;}#sk-container-id-1 div.sk-toggleable__content pre {margin: 0.2em;color: black;border-radius: 0.25em;background-color: #f0f8ff;}#sk-container-id-1 input.sk-toggleable__control:checked~div.sk-toggleable__content {max-height: 200px;max-width: 100%;overflow: auto;}#sk-container-id-1 input.sk-toggleable__control:checked~label.sk-toggleable__label-arrow:before {content: \"▾\";}#sk-container-id-1 div.sk-estimator input.sk-toggleable__control:checked~label.sk-toggleable__label {background-color: #d4ebff;}#sk-container-id-1 div.sk-label input.sk-toggleable__control:checked~label.sk-toggleable__label {background-color: #d4ebff;}#sk-container-id-1 input.sk-hidden--visually {border: 0;clip: rect(1px 1px 1px 1px);clip: rect(1px, 1px, 1px, 1px);height: 1px;margin: -1px;overflow: hidden;padding: 0;position: absolute;width: 1px;}#sk-container-id-1 div.sk-estimator {font-family: monospace;background-color: #f0f8ff;border: 1px dotted black;border-radius: 0.25em;box-sizing: border-box;margin-bottom: 0.5em;}#sk-container-id-1 div.sk-estimator:hover {background-color: #d4ebff;}#sk-container-id-1 div.sk-parallel-item::after {content: \"\";width: 100%;border-bottom: 1px solid gray;flex-grow: 1;}#sk-container-id-1 div.sk-label:hover label.sk-toggleable__label {background-color: #d4ebff;}#sk-container-id-1 div.sk-serial::before {content: \"\";position: absolute;border-left: 1px solid gray;box-sizing: border-box;top: 0;bottom: 0;left: 50%;z-index: 0;}#sk-container-id-1 div.sk-serial {display: flex;flex-direction: column;align-items: center;background-color: white;padding-right: 0.2em;padding-left: 0.2em;position: relative;}#sk-container-id-1 div.sk-item {position: relative;z-index: 1;}#sk-container-id-1 div.sk-parallel {display: flex;align-items: stretch;justify-content: center;background-color: white;position: relative;}#sk-container-id-1 div.sk-item::before, #sk-container-id-1 div.sk-parallel-item::before {content: \"\";position: absolute;border-left: 1px solid gray;box-sizing: border-box;top: 0;bottom: 0;left: 50%;z-index: -1;}#sk-container-id-1 div.sk-parallel-item {display: flex;flex-direction: column;z-index: 1;position: relative;background-color: white;}#sk-container-id-1 div.sk-parallel-item:first-child::after {align-self: flex-end;width: 50%;}#sk-container-id-1 div.sk-parallel-item:last-child::after {align-self: flex-start;width: 50%;}#sk-container-id-1 div.sk-parallel-item:only-child::after {width: 0;}#sk-container-id-1 div.sk-dashed-wrapped {border: 1px dashed gray;margin: 0 0.4em 0.5em 0.4em;box-sizing: border-box;padding-bottom: 0.4em;background-color: white;}#sk-container-id-1 div.sk-label label {font-family: monospace;font-weight: bold;display: inline-block;line-height: 1.2em;}#sk-container-id-1 div.sk-label-container {text-align: center;}#sk-container-id-1 div.sk-container {/* jupyter's `normalize.less` sets `[hidden] { display: none; }` but bootstrap.min.css set `[hidden] { display: none !important; }` so we also need the `!important` here to be able to override the default hidden behavior on the sphinx rendered scikit-learn.org. See: https://github.com/scikit-learn/scikit-learn/issues/21755 */display: inline-block !important;position: relative;}#sk-container-id-1 div.sk-text-repr-fallback {display: none;}</style><div id=\"sk-container-id-1\" class=\"sk-top-container\"><div class=\"sk-text-repr-fallback\"><pre>LinearRegression()</pre><b>In a Jupyter environment, please rerun this cell to show the HTML representation or trust the notebook. <br />On GitHub, the HTML representation is unable to render, please try loading this page with nbviewer.org.</b></div><div class=\"sk-container\" hidden><div class=\"sk-item\"><div class=\"sk-estimator sk-toggleable\"><input class=\"sk-toggleable__control sk-hidden--visually\" id=\"sk-estimator-id-1\" type=\"checkbox\" checked><label for=\"sk-estimator-id-1\" class=\"sk-toggleable__label sk-toggleable__label-arrow\">LinearRegression</label><div class=\"sk-toggleable__content\"><pre>LinearRegression()</pre></div></div></div></div></div>"
      ],
      "text/plain": [
       "LinearRegression()"
      ]
     },
     "execution_count": 21,
     "metadata": {},
     "output_type": "execute_result"
    }
   ],
   "source": [
    "from sklearn.linear_model import LinearRegression\n",
    "from sklearn.tree import DecisionTreeRegressor\n",
    "from sklearn.ensemble import RandomForestRegressor\n",
    "\n",
    "model = LinearRegression()\n",
    "#model = DecisionTreeRegressor()\n",
    "#model = RandomForestRegressor()\n",
    "\n",
    "model.fit(stock_num_tr, stock_labels)"
   ]
  },
  {
   "cell_type": "code",
   "execution_count": 22,
   "id": "a004db40-6ceb-424e-bd32-712ce8322776",
   "metadata": {},
   "outputs": [],
   "source": [
    "some_data = stock.iloc[:5]\n",
    "some_labels = stock_labels.iloc[:5]"
   ]
  },
  {
   "cell_type": "code",
   "execution_count": 23,
   "id": "f587a4cb-0d03-4c0b-88bc-9f255f0db10d",
   "metadata": {},
   "outputs": [
    {
     "data": {
      "text/html": [
       "<div>\n",
       "<style scoped>\n",
       "    .dataframe tbody tr th:only-of-type {\n",
       "        vertical-align: middle;\n",
       "    }\n",
       "\n",
       "    .dataframe tbody tr th {\n",
       "        vertical-align: top;\n",
       "    }\n",
       "\n",
       "    .dataframe thead th {\n",
       "        text-align: right;\n",
       "    }\n",
       "</style>\n",
       "<table border=\"1\" class=\"dataframe\">\n",
       "  <thead>\n",
       "    <tr style=\"text-align: right;\">\n",
       "      <th></th>\n",
       "      <th>Open</th>\n",
       "      <th>High</th>\n",
       "      <th>Low</th>\n",
       "      <th>Volume</th>\n",
       "    </tr>\n",
       "    <tr>\n",
       "      <th>Date</th>\n",
       "      <th></th>\n",
       "      <th></th>\n",
       "      <th></th>\n",
       "      <th></th>\n",
       "    </tr>\n",
       "  </thead>\n",
       "  <tbody>\n",
       "    <tr>\n",
       "      <th>2015-06-03</th>\n",
       "      <td>32.665001</td>\n",
       "      <td>32.735001</td>\n",
       "      <td>32.474998</td>\n",
       "      <td>123934000</td>\n",
       "    </tr>\n",
       "    <tr>\n",
       "      <th>2015-08-11</th>\n",
       "      <td>29.452499</td>\n",
       "      <td>29.545000</td>\n",
       "      <td>28.332500</td>\n",
       "      <td>388331200</td>\n",
       "    </tr>\n",
       "    <tr>\n",
       "      <th>2012-08-03</th>\n",
       "      <td>21.915358</td>\n",
       "      <td>22.070715</td>\n",
       "      <td>21.841429</td>\n",
       "      <td>344920800</td>\n",
       "    </tr>\n",
       "    <tr>\n",
       "      <th>2014-08-12</th>\n",
       "      <td>24.010000</td>\n",
       "      <td>24.219999</td>\n",
       "      <td>23.902500</td>\n",
       "      <td>135180000</td>\n",
       "    </tr>\n",
       "    <tr>\n",
       "      <th>2014-03-13</th>\n",
       "      <td>19.194286</td>\n",
       "      <td>19.273571</td>\n",
       "      <td>18.898571</td>\n",
       "      <td>257742800</td>\n",
       "    </tr>\n",
       "  </tbody>\n",
       "</table>\n",
       "</div>"
      ],
      "text/plain": [
       "                 Open       High        Low     Volume\n",
       "Date                                                  \n",
       "2015-06-03  32.665001  32.735001  32.474998  123934000\n",
       "2015-08-11  29.452499  29.545000  28.332500  388331200\n",
       "2012-08-03  21.915358  22.070715  21.841429  344920800\n",
       "2014-08-12  24.010000  24.219999  23.902500  135180000\n",
       "2014-03-13  19.194286  19.273571  18.898571  257742800"
      ]
     },
     "execution_count": 23,
     "metadata": {},
     "output_type": "execute_result"
    }
   ],
   "source": [
    "some_data"
   ]
  },
  {
   "cell_type": "code",
   "execution_count": 24,
   "id": "b179b550-6cc4-4d8c-9697-377a022218d1",
   "metadata": {},
   "outputs": [],
   "source": [
    "prepared_data = my_pipeline.transform(some_data)"
   ]
  },
  {
   "cell_type": "code",
   "execution_count": 25,
   "id": "066ec138-904b-45ab-8ced-79689b1bc125",
   "metadata": {},
   "outputs": [
    {
     "data": {
      "text/plain": [
       "array([32.58465601, 28.64678719, 21.98824144, 24.09561119, 19.0258483 ])"
      ]
     },
     "execution_count": 25,
     "metadata": {},
     "output_type": "execute_result"
    }
   ],
   "source": [
    "model.predict(prepared_data)"
   ]
  },
  {
   "cell_type": "markdown",
   "id": "231b1290-3d25-45d8-a0ef-eaa32abe0861",
   "metadata": {},
   "source": [
    "## Evaluating"
   ]
  },
  {
   "cell_type": "code",
   "execution_count": 26,
   "id": "43fb078f-af63-4065-a3f7-cb30485ec050",
   "metadata": {},
   "outputs": [],
   "source": [
    "from sklearn.model_selection import cross_val_score\n",
    "scores = cross_val_score(model, stock_num_tr, stock_labels, scoring='neg_mean_squared_error', cv = 10)\n",
    "rmse_scores = np.sqrt(-scores)"
   ]
  },
  {
   "cell_type": "code",
   "execution_count": 27,
   "id": "7c4d5f5a-6448-4e7e-833e-3af0cafbea71",
   "metadata": {},
   "outputs": [
    {
     "name": "stdout",
     "output_type": "stream",
     "text": [
      "scores:  [0.2933806  0.34100046 0.29982576 0.38687005 0.32514461 0.37293601\n",
      " 0.3612621  0.30227389 0.30242208 0.33958485]\n",
      "mean:  0.33247004150187526\n",
      "Standard deviation:  0.03164049549521839\n"
     ]
    }
   ],
   "source": [
    "def print_scores(scores):\n",
    "    print('scores: ', scores)\n",
    "    print('mean: ', scores.mean())\n",
    "    print('Standard deviation: ', scores.std())\n",
    "\n",
    "print_scores(rmse_scores)"
   ]
  },
  {
   "cell_type": "markdown",
   "id": "5d514165-4f2a-4bb2-9394-d5dfb0567da1",
   "metadata": {},
   "source": [
    "## Saving the Model"
   ]
  },
  {
   "cell_type": "code",
   "execution_count": 28,
   "id": "b34130c0-2f60-4d52-8fd1-adfb1fb5927c",
   "metadata": {},
   "outputs": [
    {
     "data": {
      "text/plain": [
       "['stock.joblib']"
      ]
     },
     "execution_count": 28,
     "metadata": {},
     "output_type": "execute_result"
    }
   ],
   "source": [
    "from joblib import dump, load\n",
    "dump(model, \"stock.joblib\")"
   ]
  },
  {
   "cell_type": "markdown",
   "id": "42fb9bb1-e1fe-45de-a912-37a520389a2c",
   "metadata": {},
   "source": [
    "## Testing the Model"
   ]
  },
  {
   "cell_type": "code",
   "execution_count": 29,
   "id": "51c65cef-0abd-43bd-8362-ca5f75766fe5",
   "metadata": {},
   "outputs": [],
   "source": [
    "from sklearn.metrics import mean_squared_error\n",
    "x_test = test_set.drop(\"Close\", axis=1)\n",
    "y_test = test_set['Close'].copy()\n",
    "x_test_prepared_data = my_pipeline.transform(x_test)\n",
    "final = model.predict(x_test_prepared_data)\n",
    "final_mse = mean_squared_error(y_test, final)\n",
    "final_rmse = np.sqrt(final_mse)"
   ]
  },
  {
   "cell_type": "code",
   "execution_count": 30,
   "id": "497c1039-7eab-4360-97a5-0b702b857163",
   "metadata": {},
   "outputs": [
    {
     "data": {
      "text/plain": [
       "array([[-0.19633603, -0.20683737, -0.191073  , -0.62020023],\n",
       "       [-0.32901576, -0.33670785, -0.36450269,  0.74693301],\n",
       "       [-0.64030773, -0.64099904, -0.63625769,  0.52246845],\n",
       "       [-0.55379676, -0.55349793, -0.54996894, -0.56204991],\n",
       "       [-0.75269087, -0.75487565, -0.75946327,  0.07169234]])"
      ]
     },
     "execution_count": 30,
     "metadata": {},
     "output_type": "execute_result"
    }
   ],
   "source": [
    "prepared_data"
   ]
  },
  {
   "cell_type": "markdown",
   "id": "d8851859-1a9f-44b1-91bc-47b1a2633140",
   "metadata": {},
   "source": [
    "## Using the model"
   ]
  },
  {
   "cell_type": "code",
   "execution_count": 42,
   "id": "c470f794-aa22-4ed1-84bc-2d0006e729cc",
   "metadata": {},
   "outputs": [
    {
     "data": {
      "text/plain": [
       "array([32.58966232])"
      ]
     },
     "execution_count": 42,
     "metadata": {},
     "output_type": "execute_result"
    }
   ],
   "source": [
    "features = np.array([[32.67,\t32.74,\t32.48,\t123934000]])\n",
    "df = pd.DataFrame(features, columns =['Open', 'High', 'Low', 'Volume'])\n",
    "ig = my_pipeline.transform(df)\n",
    "model.predict(ig)"
   ]
  },
  {
   "cell_type": "code",
   "execution_count": 32,
   "id": "43158d7b-a5fd-48ab-91e0-df880b40a5e5",
   "metadata": {},
   "outputs": [
    {
     "data": {
      "text/plain": [
       "Date\n",
       "2015-06-03    32.529999\n",
       "2015-08-11    28.372499\n",
       "2012-08-03    21.989286\n",
       "2014-08-12    23.992500\n",
       "2014-03-13    18.951786\n",
       "Name: Close, dtype: float64"
      ]
     },
     "execution_count": 32,
     "metadata": {},
     "output_type": "execute_result"
    }
   ],
   "source": [
    "stock_labels.head()"
   ]
  },
  {
   "cell_type": "code",
   "execution_count": 33,
   "id": "c8672fe6-ebfc-4a2f-84aa-d4d7d863dd77",
   "metadata": {},
   "outputs": [
    {
     "data": {
      "text/html": [
       "<div>\n",
       "<style scoped>\n",
       "    .dataframe tbody tr th:only-of-type {\n",
       "        vertical-align: middle;\n",
       "    }\n",
       "\n",
       "    .dataframe tbody tr th {\n",
       "        vertical-align: top;\n",
       "    }\n",
       "\n",
       "    .dataframe thead th {\n",
       "        text-align: right;\n",
       "    }\n",
       "</style>\n",
       "<table border=\"1\" class=\"dataframe\">\n",
       "  <thead>\n",
       "    <tr style=\"text-align: right;\">\n",
       "      <th></th>\n",
       "      <th>Open</th>\n",
       "      <th>High</th>\n",
       "      <th>Low</th>\n",
       "      <th>Close</th>\n",
       "      <th>Volume</th>\n",
       "    </tr>\n",
       "    <tr>\n",
       "      <th>Date</th>\n",
       "      <th></th>\n",
       "      <th></th>\n",
       "      <th></th>\n",
       "      <th></th>\n",
       "      <th></th>\n",
       "    </tr>\n",
       "  </thead>\n",
       "  <tbody>\n",
       "    <tr>\n",
       "      <th>2015-06-03</th>\n",
       "      <td>32.665001</td>\n",
       "      <td>32.735001</td>\n",
       "      <td>32.474998</td>\n",
       "      <td>32.529999</td>\n",
       "      <td>123934000</td>\n",
       "    </tr>\n",
       "    <tr>\n",
       "      <th>2015-08-11</th>\n",
       "      <td>29.452499</td>\n",
       "      <td>29.545000</td>\n",
       "      <td>28.332500</td>\n",
       "      <td>28.372499</td>\n",
       "      <td>388331200</td>\n",
       "    </tr>\n",
       "    <tr>\n",
       "      <th>2012-08-03</th>\n",
       "      <td>21.915358</td>\n",
       "      <td>22.070715</td>\n",
       "      <td>21.841429</td>\n",
       "      <td>21.989286</td>\n",
       "      <td>344920800</td>\n",
       "    </tr>\n",
       "    <tr>\n",
       "      <th>2014-08-12</th>\n",
       "      <td>24.010000</td>\n",
       "      <td>24.219999</td>\n",
       "      <td>23.902500</td>\n",
       "      <td>23.992500</td>\n",
       "      <td>135180000</td>\n",
       "    </tr>\n",
       "    <tr>\n",
       "      <th>2014-03-13</th>\n",
       "      <td>19.194286</td>\n",
       "      <td>19.273571</td>\n",
       "      <td>18.898571</td>\n",
       "      <td>18.951786</td>\n",
       "      <td>257742800</td>\n",
       "    </tr>\n",
       "    <tr>\n",
       "      <th>...</th>\n",
       "      <td>...</td>\n",
       "      <td>...</td>\n",
       "      <td>...</td>\n",
       "      <td>...</td>\n",
       "      <td>...</td>\n",
       "    </tr>\n",
       "    <tr>\n",
       "      <th>2018-01-04</th>\n",
       "      <td>43.134998</td>\n",
       "      <td>43.367500</td>\n",
       "      <td>43.020000</td>\n",
       "      <td>43.257500</td>\n",
       "      <td>89738400</td>\n",
       "    </tr>\n",
       "    <tr>\n",
       "      <th>2015-11-06</th>\n",
       "      <td>30.277500</td>\n",
       "      <td>30.452499</td>\n",
       "      <td>30.155001</td>\n",
       "      <td>30.264999</td>\n",
       "      <td>132169200</td>\n",
       "    </tr>\n",
       "    <tr>\n",
       "      <th>2015-12-29</th>\n",
       "      <td>26.740000</td>\n",
       "      <td>27.357500</td>\n",
       "      <td>26.715000</td>\n",
       "      <td>27.184999</td>\n",
       "      <td>123724800</td>\n",
       "    </tr>\n",
       "    <tr>\n",
       "      <th>2016-08-23</th>\n",
       "      <td>27.147499</td>\n",
       "      <td>27.330000</td>\n",
       "      <td>27.132500</td>\n",
       "      <td>27.212500</td>\n",
       "      <td>85030800</td>\n",
       "    </tr>\n",
       "    <tr>\n",
       "      <th>2014-12-02</th>\n",
       "      <td>28.375000</td>\n",
       "      <td>28.937500</td>\n",
       "      <td>28.187500</td>\n",
       "      <td>28.657499</td>\n",
       "      <td>237395600</td>\n",
       "    </tr>\n",
       "  </tbody>\n",
       "</table>\n",
       "<p>1910 rows × 5 columns</p>\n",
       "</div>"
      ],
      "text/plain": [
       "                 Open       High        Low      Close     Volume\n",
       "Date                                                             \n",
       "2015-06-03  32.665001  32.735001  32.474998  32.529999  123934000\n",
       "2015-08-11  29.452499  29.545000  28.332500  28.372499  388331200\n",
       "2012-08-03  21.915358  22.070715  21.841429  21.989286  344920800\n",
       "2014-08-12  24.010000  24.219999  23.902500  23.992500  135180000\n",
       "2014-03-13  19.194286  19.273571  18.898571  18.951786  257742800\n",
       "...               ...        ...        ...        ...        ...\n",
       "2018-01-04  43.134998  43.367500  43.020000  43.257500   89738400\n",
       "2015-11-06  30.277500  30.452499  30.155001  30.264999  132169200\n",
       "2015-12-29  26.740000  27.357500  26.715000  27.184999  123724800\n",
       "2016-08-23  27.147499  27.330000  27.132500  27.212500   85030800\n",
       "2014-12-02  28.375000  28.937500  28.187500  28.657499  237395600\n",
       "\n",
       "[1910 rows x 5 columns]"
      ]
     },
     "execution_count": 33,
     "metadata": {},
     "output_type": "execute_result"
    }
   ],
   "source": [
    "train_set\n"
   ]
  },
  {
   "cell_type": "code",
   "execution_count": 34,
   "id": "5e70518d-ce08-4da5-83f0-46d05766b797",
   "metadata": {},
   "outputs": [],
   "source": [
    "import pickle"
   ]
  },
  {
   "cell_type": "code",
   "execution_count": 35,
   "id": "dc852433-ca7a-4cc0-bae4-1767a1e04aad",
   "metadata": {},
   "outputs": [],
   "source": [
    "data = {\"model\": model}\n",
    "with open('saved_steps.pkl', 'wb') as file:\n",
    "    pickle.dump(data, file)"
   ]
  },
  {
   "cell_type": "code",
   "execution_count": 36,
   "id": "cc2f7188-8a3b-4728-acf0-bea46517f131",
   "metadata": {},
   "outputs": [],
   "source": [
    "with open('saved_steps.pkl', 'rb') as file:\n",
    "    data = pickle.load(file)\n",
    "\n",
    "regressor_loaded = data[\"model\"]"
   ]
  },
  {
   "cell_type": "code",
   "execution_count": 39,
   "id": "cdcb8ed0-2fa8-4717-8a83-a7bc715216cd",
   "metadata": {},
   "outputs": [
    {
     "name": "stderr",
     "output_type": "stream",
     "text": [
      "E:\\python\\Lib\\site-packages\\sklearn\\base.py:465: UserWarning: X does not have valid feature names, but StandardScaler was fitted with feature names\n",
      "  warnings.warn(\n"
     ]
    }
   ],
   "source": [
    "x = my_pipeline.transform([[32.67, 32.74, 32.47, 123934000.00]])"
   ]
  },
  {
   "cell_type": "code",
   "execution_count": 40,
   "id": "5d25c0b1-0a4c-47db-b126-4be0c526e457",
   "metadata": {},
   "outputs": [
    {
     "data": {
      "text/plain": [
       "array([[-0.19612956, -0.20663383, -0.19128227, -0.62020023]])"
      ]
     },
     "execution_count": 40,
     "metadata": {},
     "output_type": "execute_result"
    }
   ],
   "source": [
    "x"
   ]
  },
  {
   "cell_type": "code",
   "execution_count": 41,
   "id": "afe4e146-8c71-47fc-821e-ac47048174fa",
   "metadata": {},
   "outputs": [
    {
     "ename": "NameError",
     "evalue": "name 'enable_gui' is not defined",
     "output_type": "error",
     "traceback": [
      "\u001b[1;31m---------------------------------------------------------------------------\u001b[0m",
      "\u001b[1;31mNameError\u001b[0m                                 Traceback (most recent call last)",
      "Cell \u001b[1;32mIn[41], line 1\u001b[0m\n\u001b[1;32m----> 1\u001b[0m \u001b[43menable_gui\u001b[49m\n",
      "\u001b[1;31mNameError\u001b[0m: name 'enable_gui' is not defined"
     ]
    }
   ],
   "source": [
    "enable_gui"
   ]
  },
  {
   "cell_type": "code",
   "execution_count": null,
   "id": "ee571987-5337-40c9-91df-e13f3bdc6e3d",
   "metadata": {},
   "outputs": [],
   "source": []
  }
 ],
 "metadata": {
  "kernelspec": {
   "display_name": "Python 3 (ipykernel)",
   "language": "python",
   "name": "python3"
  },
  "language_info": {
   "codemirror_mode": {
    "name": "ipython",
    "version": 3
   },
   "file_extension": ".py",
   "mimetype": "text/x-python",
   "name": "python",
   "nbconvert_exporter": "python",
   "pygments_lexer": "ipython3",
   "version": "3.11.5"
  }
 },
 "nbformat": 4,
 "nbformat_minor": 5
}
