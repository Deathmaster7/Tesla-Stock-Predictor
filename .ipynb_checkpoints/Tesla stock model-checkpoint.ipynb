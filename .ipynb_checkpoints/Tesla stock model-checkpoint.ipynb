{
 "cells": [
  {
   "cell_type": "code",
   "execution_count": 17,
   "id": "0956b0a9-9ec0-4c88-8fae-68d23eedb0e1",
   "metadata": {},
   "outputs": [
    {
     "data": {
      "text/plain": [
       "array([220395.37599436])"
      ]
     },
     "execution_count": 17,
     "metadata": {},
     "output_type": "execute_result"
    }
   ],
   "source": [
    "from joblib import dump, load\n",
    "import numpy as np\n",
    "import pandas as pd\n",
    "model = load(\"stock1.joblib\")\n",
    "model.predict([[172.26, 173.63, 170.82, 49594600]])"
   ]
  },
  {
   "cell_type": "code",
   "execution_count": null,
   "id": "27f0342c-eaa2-4e49-b29a-eaf64f946522",
   "metadata": {},
   "outputs": [],
   "source": []
  }
 ],
 "metadata": {
  "kernelspec": {
   "display_name": "Python 3 (ipykernel)",
   "language": "python",
   "name": "python3"
  },
  "language_info": {
   "codemirror_mode": {
    "name": "ipython",
    "version": 3
   },
   "file_extension": ".py",
   "mimetype": "text/x-python",
   "name": "python",
   "nbconvert_exporter": "python",
   "pygments_lexer": "ipython3",
   "version": "3.11.5"
  }
 },
 "nbformat": 4,
 "nbformat_minor": 5
}
