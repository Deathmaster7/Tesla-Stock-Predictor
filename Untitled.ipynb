{
 "cells": [
  {
   "cell_type": "code",
   "execution_count": 5,
   "id": "605433a2-0d16-4600-be10-ddee34cf1da0",
   "metadata": {},
   "outputs": [
    {
     "name": "stderr",
     "output_type": "stream",
     "text": [
      "2024-01-09 13:54:17.792 \n",
      "  \u001b[33m\u001b[1mWarning:\u001b[0m to view this Streamlit app on a browser, run it with the following\n",
      "  command:\n",
      "\n",
      "    streamlit run E:\\python\\Lib\\site-packages\\ipykernel_launcher.py [ARGUMENTS]\n"
     ]
    },
    {
     "name": "stdout",
     "output_type": "stream",
     "text": [
      "[[0. 0. 0. 0.]]\n"
     ]
    },
    {
     "data": {
      "text/plain": [
       "array([[0., 0., 0., 0.]])"
      ]
     },
     "execution_count": 5,
     "metadata": {},
     "output_type": "execute_result"
    }
   ],
   "source": [
    "import streamlit as st\n",
    "from joblib import dump, load\n",
    "import numpy as np\n",
    "import pickle\n",
    "import import_ipynb\n",
    "\n",
    "def load_model():\n",
    "    with open('saved_steps.pkl', 'rb') as file:\n",
    "        data = pickle.load(file)\n",
    "    return data\n",
    "\n",
    "data = load_model()\n",
    "\n",
    "regressor = data['model']\n",
    "\n",
    "from sklearn.preprocessing import StandardScaler\n",
    "std = StandardScaler()  \n",
    "\n",
    "\n",
    "x = np.array([[32.67,\t32.74,\t32.48,\t123934000]])\n",
    "ig = std.fit_transform(x)\n",
    "print(ig)\n",
    "close = regressor.predict(ig)\n",
    "st.subheader(ig)\n",
    "ig"
   ]
  },
  {
   "cell_type": "code",
   "execution_count": null,
   "id": "2ea205a5-0110-44bd-a2ee-04f89520de0f",
   "metadata": {},
   "outputs": [],
   "source": []
  }
 ],
 "metadata": {
  "kernelspec": {
   "display_name": "Python 3 (ipykernel)",
   "language": "python",
   "name": "python3"
  },
  "language_info": {
   "codemirror_mode": {
    "name": "ipython",
    "version": 3
   },
   "file_extension": ".py",
   "mimetype": "text/x-python",
   "name": "python",
   "nbconvert_exporter": "python",
   "pygments_lexer": "ipython3",
   "version": "3.11.5"
  }
 },
 "nbformat": 4,
 "nbformat_minor": 5
}
