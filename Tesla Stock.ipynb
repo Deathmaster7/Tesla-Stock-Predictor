{
 "cells": [
  {
   "cell_type": "code",
   "execution_count": 1,
   "id": "19fd8660-ba6d-4232-af12-13a1ac9e1bc2",
   "metadata": {},
   "outputs": [
    {
     "name": "stdout",
     "output_type": "stream",
     "text": [
      "[*********************100%%**********************]  1 of 1 completed\n"
     ]
    }
   ],
   "source": [
    "import numpy as np\n",
    "import pandas as pd\n",
    "\n",
    "import yfinance as yf\n",
    "yf.pdr_override() # <== that's all it takes :-)\n",
    "from pandas_datareader import data as pdr\n",
    "\n",
    "stock = pdr.get_data_yahoo('TSLA', start='2011-07-01', end = '2020-12-28')"
   ]
  },
  {
   "cell_type": "code",
   "execution_count": 2,
   "id": "04d2dafb-c674-4f30-a16a-b168908890b0",
   "metadata": {},
   "outputs": [
    {
     "data": {
      "text/html": [
       "<div>\n",
       "<style scoped>\n",
       "    .dataframe tbody tr th:only-of-type {\n",
       "        vertical-align: middle;\n",
       "    }\n",
       "\n",
       "    .dataframe tbody tr th {\n",
       "        vertical-align: top;\n",
       "    }\n",
       "\n",
       "    .dataframe thead th {\n",
       "        text-align: right;\n",
       "    }\n",
       "</style>\n",
       "<table border=\"1\" class=\"dataframe\">\n",
       "  <thead>\n",
       "    <tr style=\"text-align: right;\">\n",
       "      <th></th>\n",
       "      <th>Open</th>\n",
       "      <th>High</th>\n",
       "      <th>Low</th>\n",
       "      <th>Close</th>\n",
       "      <th>Adj Close</th>\n",
       "      <th>Volume</th>\n",
       "    </tr>\n",
       "    <tr>\n",
       "      <th>Date</th>\n",
       "      <th></th>\n",
       "      <th></th>\n",
       "      <th></th>\n",
       "      <th></th>\n",
       "      <th></th>\n",
       "      <th></th>\n",
       "    </tr>\n",
       "  </thead>\n",
       "  <tbody>\n",
       "    <tr>\n",
       "      <th>2011-07-01</th>\n",
       "      <td>1.938000</td>\n",
       "      <td>1.973333</td>\n",
       "      <td>1.920000</td>\n",
       "      <td>1.934667</td>\n",
       "      <td>1.934667</td>\n",
       "      <td>12823500</td>\n",
       "    </tr>\n",
       "    <tr>\n",
       "      <th>2011-07-05</th>\n",
       "      <td>1.934667</td>\n",
       "      <td>1.968000</td>\n",
       "      <td>1.914000</td>\n",
       "      <td>1.942667</td>\n",
       "      <td>1.942667</td>\n",
       "      <td>14940000</td>\n",
       "    </tr>\n",
       "    <tr>\n",
       "      <th>2011-07-06</th>\n",
       "      <td>1.942667</td>\n",
       "      <td>1.942667</td>\n",
       "      <td>1.903333</td>\n",
       "      <td>1.930667</td>\n",
       "      <td>1.930667</td>\n",
       "      <td>13903500</td>\n",
       "    </tr>\n",
       "    <tr>\n",
       "      <th>2011-07-07</th>\n",
       "      <td>1.942667</td>\n",
       "      <td>2.000000</td>\n",
       "      <td>1.934000</td>\n",
       "      <td>1.982000</td>\n",
       "      <td>1.982000</td>\n",
       "      <td>19918500</td>\n",
       "    </tr>\n",
       "    <tr>\n",
       "      <th>2011-07-08</th>\n",
       "      <td>1.992667</td>\n",
       "      <td>1.992667</td>\n",
       "      <td>1.906000</td>\n",
       "      <td>1.920667</td>\n",
       "      <td>1.920667</td>\n",
       "      <td>18609000</td>\n",
       "    </tr>\n",
       "  </tbody>\n",
       "</table>\n",
       "</div>"
      ],
      "text/plain": [
       "                Open      High       Low     Close  Adj Close    Volume\n",
       "Date                                                                   \n",
       "2011-07-01  1.938000  1.973333  1.920000  1.934667   1.934667  12823500\n",
       "2011-07-05  1.934667  1.968000  1.914000  1.942667   1.942667  14940000\n",
       "2011-07-06  1.942667  1.942667  1.903333  1.930667   1.930667  13903500\n",
       "2011-07-07  1.942667  2.000000  1.934000  1.982000   1.982000  19918500\n",
       "2011-07-08  1.992667  1.992667  1.906000  1.920667   1.920667  18609000"
      ]
     },
     "execution_count": 2,
     "metadata": {},
     "output_type": "execute_result"
    }
   ],
   "source": [
    "stock.head()"
   ]
  },
  {
   "cell_type": "code",
   "execution_count": 3,
   "id": "8a9af84a-57cb-4481-a955-15a976472b1c",
   "metadata": {},
   "outputs": [
    {
     "name": "stdout",
     "output_type": "stream",
     "text": [
      "<class 'pandas.core.frame.DataFrame'>\n",
      "DatetimeIndex: 2388 entries, 2011-07-01 to 2020-12-24\n",
      "Data columns (total 6 columns):\n",
      " #   Column     Non-Null Count  Dtype  \n",
      "---  ------     --------------  -----  \n",
      " 0   Open       2388 non-null   float64\n",
      " 1   High       2388 non-null   float64\n",
      " 2   Low        2388 non-null   float64\n",
      " 3   Close      2388 non-null   float64\n",
      " 4   Adj Close  2388 non-null   float64\n",
      " 5   Volume     2388 non-null   int64  \n",
      "dtypes: float64(5), int64(1)\n",
      "memory usage: 130.6 KB\n"
     ]
    }
   ],
   "source": [
    "stock.info()"
   ]
  },
  {
   "cell_type": "code",
   "execution_count": 4,
   "id": "960bea4b-7367-4652-bcdd-00ab2ba86957",
   "metadata": {},
   "outputs": [
    {
     "data": {
      "text/html": [
       "<div>\n",
       "<style scoped>\n",
       "    .dataframe tbody tr th:only-of-type {\n",
       "        vertical-align: middle;\n",
       "    }\n",
       "\n",
       "    .dataframe tbody tr th {\n",
       "        vertical-align: top;\n",
       "    }\n",
       "\n",
       "    .dataframe thead th {\n",
       "        text-align: right;\n",
       "    }\n",
       "</style>\n",
       "<table border=\"1\" class=\"dataframe\">\n",
       "  <thead>\n",
       "    <tr style=\"text-align: right;\">\n",
       "      <th></th>\n",
       "      <th>Open</th>\n",
       "      <th>High</th>\n",
       "      <th>Low</th>\n",
       "      <th>Close</th>\n",
       "      <th>Adj Close</th>\n",
       "      <th>Volume</th>\n",
       "    </tr>\n",
       "  </thead>\n",
       "  <tbody>\n",
       "    <tr>\n",
       "      <th>count</th>\n",
       "      <td>2388.000000</td>\n",
       "      <td>2388.000000</td>\n",
       "      <td>2388.000000</td>\n",
       "      <td>2388.000000</td>\n",
       "      <td>2388.000000</td>\n",
       "      <td>2.388000e+03</td>\n",
       "    </tr>\n",
       "    <tr>\n",
       "      <th>mean</th>\n",
       "      <td>21.895220</td>\n",
       "      <td>22.383843</td>\n",
       "      <td>21.386233</td>\n",
       "      <td>21.926645</td>\n",
       "      <td>21.926645</td>\n",
       "      <td>1.029826e+08</td>\n",
       "    </tr>\n",
       "    <tr>\n",
       "      <th>std</th>\n",
       "      <td>30.929988</td>\n",
       "      <td>31.793421</td>\n",
       "      <td>30.005519</td>\n",
       "      <td>31.068869</td>\n",
       "      <td>31.068869</td>\n",
       "      <td>8.852235e+07</td>\n",
       "    </tr>\n",
       "    <tr>\n",
       "      <th>min</th>\n",
       "      <td>1.462000</td>\n",
       "      <td>1.540667</td>\n",
       "      <td>1.433333</td>\n",
       "      <td>1.463333</td>\n",
       "      <td>1.463333</td>\n",
       "      <td>3.594000e+06</td>\n",
       "    </tr>\n",
       "    <tr>\n",
       "      <th>25%</th>\n",
       "      <td>10.830000</td>\n",
       "      <td>11.083500</td>\n",
       "      <td>10.537500</td>\n",
       "      <td>10.832833</td>\n",
       "      <td>10.832833</td>\n",
       "      <td>4.653900e+07</td>\n",
       "    </tr>\n",
       "    <tr>\n",
       "      <th>50%</th>\n",
       "      <td>15.380667</td>\n",
       "      <td>15.651667</td>\n",
       "      <td>15.139333</td>\n",
       "      <td>15.372666</td>\n",
       "      <td>15.372666</td>\n",
       "      <td>8.165475e+07</td>\n",
       "    </tr>\n",
       "    <tr>\n",
       "      <th>75%</th>\n",
       "      <td>20.854499</td>\n",
       "      <td>21.131499</td>\n",
       "      <td>20.425833</td>\n",
       "      <td>20.816999</td>\n",
       "      <td>20.816999</td>\n",
       "      <td>1.296109e+08</td>\n",
       "    </tr>\n",
       "    <tr>\n",
       "      <th>max</th>\n",
       "      <td>222.966660</td>\n",
       "      <td>231.666672</td>\n",
       "      <td>215.356674</td>\n",
       "      <td>231.666672</td>\n",
       "      <td>231.666672</td>\n",
       "      <td>9.140820e+08</td>\n",
       "    </tr>\n",
       "  </tbody>\n",
       "</table>\n",
       "</div>"
      ],
      "text/plain": [
       "              Open         High          Low        Close    Adj Close  \\\n",
       "count  2388.000000  2388.000000  2388.000000  2388.000000  2388.000000   \n",
       "mean     21.895220    22.383843    21.386233    21.926645    21.926645   \n",
       "std      30.929988    31.793421    30.005519    31.068869    31.068869   \n",
       "min       1.462000     1.540667     1.433333     1.463333     1.463333   \n",
       "25%      10.830000    11.083500    10.537500    10.832833    10.832833   \n",
       "50%      15.380667    15.651667    15.139333    15.372666    15.372666   \n",
       "75%      20.854499    21.131499    20.425833    20.816999    20.816999   \n",
       "max     222.966660   231.666672   215.356674   231.666672   231.666672   \n",
       "\n",
       "             Volume  \n",
       "count  2.388000e+03  \n",
       "mean   1.029826e+08  \n",
       "std    8.852235e+07  \n",
       "min    3.594000e+06  \n",
       "25%    4.653900e+07  \n",
       "50%    8.165475e+07  \n",
       "75%    1.296109e+08  \n",
       "max    9.140820e+08  "
      ]
     },
     "execution_count": 4,
     "metadata": {},
     "output_type": "execute_result"
    }
   ],
   "source": [
    "stock.describe()"
   ]
  },
  {
   "cell_type": "code",
   "execution_count": 5,
   "id": "13456333-5bed-4766-af78-79348cf0ec30",
   "metadata": {},
   "outputs": [],
   "source": [
    "stock.to_csv('teslakidetail.csv')"
   ]
  },
  {
   "cell_type": "code",
   "execution_count": 6,
   "id": "ff206552-46ff-4498-bd14-2b38488c5d79",
   "metadata": {},
   "outputs": [],
   "source": [
    "%matplotlib inline"
   ]
  },
  {
   "cell_type": "code",
   "execution_count": 7,
   "id": "58bbe0be-c386-4e94-8931-142230283070",
   "metadata": {},
   "outputs": [
    {
     "data": {
      "text/plain": [
       "array([[<Axes: title={'center': 'Open'}>,\n",
       "        <Axes: title={'center': 'High'}>],\n",
       "       [<Axes: title={'center': 'Low'}>,\n",
       "        <Axes: title={'center': 'Close'}>],\n",
       "       [<Axes: title={'center': 'Adj Close'}>,\n",
       "        <Axes: title={'center': 'Volume'}>]], dtype=object)"
      ]
     },
     "execution_count": 7,
     "metadata": {},
     "output_type": "execute_result"
    },
    {
     "data": {
      "image/png": "[encoded data removed]",
      "text/plain": [
       "<Figure size 1200x800 with 6 Axes>"
      ]
     },
     "metadata": {},
     "output_type": "display_data"
    }
   ],
   "source": [
    "import matplotlib as plt\n",
    "stock.hist(bins=50, figsize=(12,8))"
   ]
  },
  {
   "cell_type": "markdown",
   "id": "a6709558-80b6-4736-8162-dbb76f1643c8",
   "metadata": {},
   "source": [
    "## Train Test Splitting"
   ]
  },
  {
   "cell_type": "code",
   "execution_count": 8,
   "id": "ae1e4798-2d70-4710-9906-2d6816ebe087",
   "metadata": {},
   "outputs": [
    {
     "name": "stdout",
     "output_type": "stream",
     "text": [
      "Rows in train: 1910\n",
      "Rows in test : 478\n"
     ]
    }
   ],
   "source": [
    "from sklearn.model_selection import train_test_split\n",
    "train_set, test_set = train_test_split(stock, test_size=0.2, random_state=42)\n",
    "print(f\"Rows in train: {len(train_set)}\\nRows in test : {len(test_set)}\")"
   ]
  },
  {
   "cell_type": "code",
   "execution_count": 9,
   "id": "bbe46585-81d4-4a47-8bc4-5934d39e36ba",
   "metadata": {},
   "outputs": [],
   "source": [
    "stock = train_set.copy()"
   ]
  },
  {
   "cell_type": "markdown",
   "id": "d08a15fa-5eb3-4694-89dd-6408027fae86",
   "metadata": {},
   "source": [
    "## Looking for correlation"
   ]
  },
  {
   "cell_type": "code",
   "execution_count": 10,
   "id": "9b508031-b463-4507-9b0f-173d545e101d",
   "metadata": {},
   "outputs": [
    {
     "data": {
      "text/plain": [
       "Close        1.000000\n",
       "Adj Close    1.000000\n",
       "High         0.999597\n",
       "Low          0.999459\n",
       "Open         0.998970\n",
       "Volume       0.350390\n",
       "Name: Close, dtype: float64"
      ]
     },
     "execution_count": 10,
     "metadata": {},
     "output_type": "execute_result"
    }
   ],
   "source": [
    "corr_matrix = stock.corr()\n",
    "corr_matrix['Close'].sort_values(ascending=False)"
   ]
  },
  {
   "cell_type": "code",
   "execution_count": 11,
   "id": "72efe98d-6649-4d54-a3a2-4bcc3051f2d8",
   "metadata": {},
   "outputs": [
    {
     "data": {
      "text/plain": [
       "array([[<Axes: xlabel='High', ylabel='High'>,\n",
       "        <Axes: xlabel='Low', ylabel='High'>],\n",
       "       [<Axes: xlabel='High', ylabel='Low'>,\n",
       "        <Axes: xlabel='Low', ylabel='Low'>]], dtype=object)"
      ]
     },
     "execution_count": 11,
     "metadata": {},
     "output_type": "execute_result"
    },
    {
     "data": {
      "image/png": "[encoded data removed]",
      "text/plain": [
       "<Figure size 1200x800 with 4 Axes>"
      ]
     },
     "metadata": {},
     "output_type": "display_data"
    }
   ],
   "source": [
    "from pandas.plotting import scatter_matrix\n",
    "attributes = [\"High\", \"Low\"]\n",
    "scatter_matrix(stock[attributes], figsize=(12, 8))"
   ]
  },
  {
   "cell_type": "markdown",
   "id": "22497c31-c545-4f3c-b2b3-91742b0e961a",
   "metadata": {},
   "source": [
    "## Trying out attributes"
   ]
  },
  {
   "cell_type": "code",
   "execution_count": 12,
   "id": "ee38875e-deac-4758-87fe-1ff3f959bac3",
   "metadata": {},
   "outputs": [],
   "source": [
    "stock['OpenHigh']=stock['Open']/stock['High']"
   ]
  },
  {
   "cell_type": "code",
   "execution_count": 13,
   "id": "1feaf52e-7c3c-45c5-bf3f-51c1bc86fe19",
   "metadata": {},
   "outputs": [
    {
     "data": {
      "text/plain": [
       "Close        1.000000\n",
       "Adj Close    1.000000\n",
       "High         0.999597\n",
       "Low          0.999459\n",
       "Open         0.998970\n",
       "Volume       0.350390\n",
       "OpenHigh    -0.105706\n",
       "Name: Close, dtype: float64"
      ]
     },
     "execution_count": 13,
     "metadata": {},
     "output_type": "execute_result"
    }
   ],
   "source": [
    "corr_matrix = stock.corr()\n",
    "corr_matrix['Close'].sort_values(ascending=False)"
   ]
  },
  {
   "cell_type": "code",
   "execution_count": 14,
   "id": "e013d919-ba93-484e-9279-57b9a8116123",
   "metadata": {},
   "outputs": [],
   "source": [
    "stock = train_set.drop('Close', axis=1)\n",
    "stock_labels = train_set['Close'].copy()"
   ]
  },
  {
   "cell_type": "markdown",
   "id": "956062f6-91e1-4d79-b684-f984385361ae",
   "metadata": {},
   "source": [
    "## Pipeline"
   ]
  },
  {
   "cell_type": "code",
   "execution_count": 15,
   "id": "4b37133d-cd89-4cfd-9d90-4854dcb2ee93",
   "metadata": {},
   "outputs": [],
   "source": [
    "from sklearn.pipeline import Pipeline\n",
    "from sklearn.preprocessing import StandardScaler"
   ]
  },
  {
   "cell_type": "code",
   "execution_count": 16,
   "id": "a2bc4575-d687-4764-931b-b4ec21f4e35e",
   "metadata": {},
   "outputs": [],
   "source": [
    "my_pipeline = Pipeline([\n",
    "    ('stdscaler', StandardScaler())\n",
    "])"
   ]
  },
  {
   "cell_type": "code",
   "execution_count": 17,
   "id": "ed62db7b-c12e-4669-9437-9233be87a1d0",
   "metadata": {},
   "outputs": [
    {
     "data": {
      "text/html": [
       "<div>\n",
       "<style scoped>\n",
       "    .dataframe tbody tr th:only-of-type {\n",
       "        vertical-align: middle;\n",
       "    }\n",
       "\n",
       "    .dataframe tbody tr th {\n",
       "        vertical-align: top;\n",
       "    }\n",
       "\n",
       "    .dataframe thead th {\n",
       "        text-align: right;\n",
       "    }\n",
       "</style>\n",
       "<table border=\"1\" class=\"dataframe\">\n",
       "  <thead>\n",
       "    <tr style=\"text-align: right;\">\n",
       "      <th></th>\n",
       "      <th>Open</th>\n",
       "      <th>High</th>\n",
       "      <th>Low</th>\n",
       "      <th>Adj Close</th>\n",
       "      <th>Volume</th>\n",
       "    </tr>\n",
       "    <tr>\n",
       "      <th>Date</th>\n",
       "      <th></th>\n",
       "      <th></th>\n",
       "      <th></th>\n",
       "      <th></th>\n",
       "      <th></th>\n",
       "    </tr>\n",
       "  </thead>\n",
       "  <tbody>\n",
       "    <tr>\n",
       "      <th>2015-06-03</th>\n",
       "      <td>16.546667</td>\n",
       "      <td>16.714666</td>\n",
       "      <td>16.467333</td>\n",
       "      <td>16.599333</td>\n",
       "      <td>26722500</td>\n",
       "    </tr>\n",
       "    <tr>\n",
       "      <th>2015-08-11</th>\n",
       "      <td>15.810000</td>\n",
       "      <td>15.953333</td>\n",
       "      <td>15.629333</td>\n",
       "      <td>15.824667</td>\n",
       "      <td>63973500</td>\n",
       "    </tr>\n",
       "    <tr>\n",
       "      <th>2012-08-03</th>\n",
       "      <td>1.793333</td>\n",
       "      <td>1.836667</td>\n",
       "      <td>1.782667</td>\n",
       "      <td>1.818000</td>\n",
       "      <td>18142500</td>\n",
       "    </tr>\n",
       "    <tr>\n",
       "      <th>2014-08-12</th>\n",
       "      <td>17.205334</td>\n",
       "      <td>17.353333</td>\n",
       "      <td>16.972000</td>\n",
       "      <td>17.330667</td>\n",
       "      <td>95734500</td>\n",
       "    </tr>\n",
       "    <tr>\n",
       "      <th>2014-03-13</th>\n",
       "      <td>16.252666</td>\n",
       "      <td>16.279333</td>\n",
       "      <td>15.600000</td>\n",
       "      <td>15.852667</td>\n",
       "      <td>93544500</td>\n",
       "    </tr>\n",
       "  </tbody>\n",
       "</table>\n",
       "</div>"
      ],
      "text/plain": [
       "                 Open       High        Low  Adj Close    Volume\n",
       "Date                                                            \n",
       "2015-06-03  16.546667  16.714666  16.467333  16.599333  26722500\n",
       "2015-08-11  15.810000  15.953333  15.629333  15.824667  63973500\n",
       "2012-08-03   1.793333   1.836667   1.782667   1.818000  18142500\n",
       "2014-08-12  17.205334  17.353333  16.972000  17.330667  95734500\n",
       "2014-03-13  16.252666  16.279333  15.600000  15.852667  93544500"
      ]
     },
     "execution_count": 17,
     "metadata": {},
     "output_type": "execute_result"
    }
   ],
   "source": [
    "stock.head()"
   ]
  },
  {
   "cell_type": "code",
   "execution_count": 18,
   "id": "2a1c973d-2104-41f9-9e23-5df7fa9684fe",
   "metadata": {},
   "outputs": [],
   "source": [
    "stock_num_tr = my_pipeline.fit_transform(stock)"
   ]
  },
  {
   "cell_type": "code",
   "execution_count": 19,
   "id": "b2343d67-066b-4960-abc7-cf00a7132a56",
   "metadata": {},
   "outputs": [
    {
     "data": {
      "text/html": [
       "<style>#sk-container-id-1 {color: black;}#sk-container-id-1 pre{padding: 0;}#sk-container-id-1 div.sk-toggleable {background-color: white;}#sk-container-id-1 label.sk-toggleable__label {cursor: pointer;display: block;width: 100%;margin-bottom: 0;padding: 0.3em;box-sizing: border-box;text-align: center;}#sk-container-id-1 label.sk-toggleable__label-arrow:before {content: \"▸\";float: left;margin-right: 0.25em;color: #696969;}#sk-container-id-1 label.sk-toggleable__label-arrow:hover:before {color: black;}#sk-container-id-1 div.sk-estimator:hover label.sk-toggleable__label-arrow:before {color: black;}#sk-container-id-1 div.sk-toggleable__content {max-height: 0;max-width: 0;overflow: hidden;text-align: left;background-color: #f0f8ff;}#sk-container-id-1 div.sk-toggleable__content pre {margin: 0.2em;color: black;border-radius: 0.25em;background-color: #f0f8ff;}#sk-container-id-1 input.sk-toggleable__control:checked~div.sk-toggleable__content {max-height: 200px;max-width: 100%;overflow: auto;}#sk-container-id-1 input.sk-toggleable__control:checked~label.sk-toggleable__label-arrow:before {content: \"▾\";}#sk-container-id-1 div.sk-estimator input.sk-toggleable__control:checked~label.sk-toggleable__label {background-color: #d4ebff;}#sk-container-id-1 div.sk-label input.sk-toggleable__control:checked~label.sk-toggleable__label {background-color: #d4ebff;}#sk-container-id-1 input.sk-hidden--visually {border: 0;clip: rect(1px 1px 1px 1px);clip: rect(1px, 1px, 1px, 1px);height: 1px;margin: -1px;overflow: hidden;padding: 0;position: absolute;width: 1px;}#sk-container-id-1 div.sk-estimator {font-family: monospace;background-color: #f0f8ff;border: 1px dotted black;border-radius: 0.25em;box-sizing: border-box;margin-bottom: 0.5em;}#sk-container-id-1 div.sk-estimator:hover {background-color: #d4ebff;}#sk-container-id-1 div.sk-parallel-item::after {content: \"\";width: 100%;border-bottom: 1px solid gray;flex-grow: 1;}#sk-container-id-1 div.sk-label:hover label.sk-toggleable__label {background-color: #d4ebff;}#sk-container-id-1 div.sk-serial::before {content: \"\";position: absolute;border-left: 1px solid gray;box-sizing: border-box;top: 0;bottom: 0;left: 50%;z-index: 0;}#sk-container-id-1 div.sk-serial {display: flex;flex-direction: column;align-items: center;background-color: white;padding-right: 0.2em;padding-left: 0.2em;position: relative;}#sk-container-id-1 div.sk-item {position: relative;z-index: 1;}#sk-container-id-1 div.sk-parallel {display: flex;align-items: stretch;justify-content: center;background-color: white;position: relative;}#sk-container-id-1 div.sk-item::before, #sk-container-id-1 div.sk-parallel-item::before {content: \"\";position: absolute;border-left: 1px solid gray;box-sizing: border-box;top: 0;bottom: 0;left: 50%;z-index: -1;}#sk-container-id-1 div.sk-parallel-item {display: flex;flex-direction: column;z-index: 1;position: relative;background-color: white;}#sk-container-id-1 div.sk-parallel-item:first-child::after {align-self: flex-end;width: 50%;}#sk-container-id-1 div.sk-parallel-item:last-child::after {align-self: flex-start;width: 50%;}#sk-container-id-1 div.sk-parallel-item:only-child::after {width: 0;}#sk-container-id-1 div.sk-dashed-wrapped {border: 1px dashed gray;margin: 0 0.4em 0.5em 0.4em;box-sizing: border-box;padding-bottom: 0.4em;background-color: white;}#sk-container-id-1 div.sk-label label {font-family: monospace;font-weight: bold;display: inline-block;line-height: 1.2em;}#sk-container-id-1 div.sk-label-container {text-align: center;}#sk-container-id-1 div.sk-container {/* jupyter's `normalize.less` sets `[hidden] { display: none; }` but bootstrap.min.css set `[hidden] { display: none !important; }` so we also need the `!important` here to be able to override the default hidden behavior on the sphinx rendered scikit-learn.org. See: https://github.com/scikit-learn/scikit-learn/issues/21755 */display: inline-block !important;position: relative;}#sk-container-id-1 div.sk-text-repr-fallback {display: none;}</style><div id=\"sk-container-id-1\" class=\"sk-top-container\"><div class=\"sk-text-repr-fallback\"><pre>RandomForestRegressor()</pre><b>In a Jupyter environment, please rerun this cell to show the HTML representation or trust the notebook. <br />On GitHub, the HTML representation is unable to render, please try loading this page with nbviewer.org.</b></div><div class=\"sk-container\" hidden><div class=\"sk-item\"><div class=\"sk-estimator sk-toggleable\"><input class=\"sk-toggleable__control sk-hidden--visually\" id=\"sk-estimator-id-1\" type=\"checkbox\" checked><label for=\"sk-estimator-id-1\" class=\"sk-toggleable__label sk-toggleable__label-arrow\">RandomForestRegressor</label><div class=\"sk-toggleable__content\"><pre>RandomForestRegressor()</pre></div></div></div></div></div>"
      ],
      "text/plain": [
       "RandomForestRegressor()"
      ]
     },
     "execution_count": 19,
     "metadata": {},
     "output_type": "execute_result"
    }
   ],
   "source": [
    "from sklearn.linear_model import LinearRegression\n",
    "from sklearn.tree import DecisionTreeRegressor\n",
    "from sklearn.ensemble import RandomForestRegressor\n",
    "\n",
    "#model = LinearRegression()\n",
    "#model = DecisionTreeRegressor()\n",
    "model = RandomForestRegressor()\n",
    "\n",
    "model.fit(stock_num_tr, stock_labels)"
   ]
  },
  {
   "cell_type": "code",
   "execution_count": 20,
   "id": "a004db40-6ceb-424e-bd32-712ce8322776",
   "metadata": {},
   "outputs": [],
   "source": [
    "some_data = stock.iloc[:5]\n",
    "some_labels = stock_labels.iloc[:5]"
   ]
  },
  {
   "cell_type": "code",
   "execution_count": 21,
   "id": "f587a4cb-0d03-4c0b-88bc-9f255f0db10d",
   "metadata": {},
   "outputs": [
    {
     "data": {
      "text/html": [
       "<div>\n",
       "<style scoped>\n",
       "    .dataframe tbody tr th:only-of-type {\n",
       "        vertical-align: middle;\n",
       "    }\n",
       "\n",
       "    .dataframe tbody tr th {\n",
       "        vertical-align: top;\n",
       "    }\n",
       "\n",
       "    .dataframe thead th {\n",
       "        text-align: right;\n",
       "    }\n",
       "</style>\n",
       "<table border=\"1\" class=\"dataframe\">\n",
       "  <thead>\n",
       "    <tr style=\"text-align: right;\">\n",
       "      <th></th>\n",
       "      <th>Open</th>\n",
       "      <th>High</th>\n",
       "      <th>Low</th>\n",
       "      <th>Adj Close</th>\n",
       "      <th>Volume</th>\n",
       "    </tr>\n",
       "    <tr>\n",
       "      <th>Date</th>\n",
       "      <th></th>\n",
       "      <th></th>\n",
       "      <th></th>\n",
       "      <th></th>\n",
       "      <th></th>\n",
       "    </tr>\n",
       "  </thead>\n",
       "  <tbody>\n",
       "    <tr>\n",
       "      <th>2015-06-03</th>\n",
       "      <td>16.546667</td>\n",
       "      <td>16.714666</td>\n",
       "      <td>16.467333</td>\n",
       "      <td>16.599333</td>\n",
       "      <td>26722500</td>\n",
       "    </tr>\n",
       "    <tr>\n",
       "      <th>2015-08-11</th>\n",
       "      <td>15.810000</td>\n",
       "      <td>15.953333</td>\n",
       "      <td>15.629333</td>\n",
       "      <td>15.824667</td>\n",
       "      <td>63973500</td>\n",
       "    </tr>\n",
       "    <tr>\n",
       "      <th>2012-08-03</th>\n",
       "      <td>1.793333</td>\n",
       "      <td>1.836667</td>\n",
       "      <td>1.782667</td>\n",
       "      <td>1.818000</td>\n",
       "      <td>18142500</td>\n",
       "    </tr>\n",
       "    <tr>\n",
       "      <th>2014-08-12</th>\n",
       "      <td>17.205334</td>\n",
       "      <td>17.353333</td>\n",
       "      <td>16.972000</td>\n",
       "      <td>17.330667</td>\n",
       "      <td>95734500</td>\n",
       "    </tr>\n",
       "    <tr>\n",
       "      <th>2014-03-13</th>\n",
       "      <td>16.252666</td>\n",
       "      <td>16.279333</td>\n",
       "      <td>15.600000</td>\n",
       "      <td>15.852667</td>\n",
       "      <td>93544500</td>\n",
       "    </tr>\n",
       "  </tbody>\n",
       "</table>\n",
       "</div>"
      ],
      "text/plain": [
       "                 Open       High        Low  Adj Close    Volume\n",
       "Date                                                            \n",
       "2015-06-03  16.546667  16.714666  16.467333  16.599333  26722500\n",
       "2015-08-11  15.810000  15.953333  15.629333  15.824667  63973500\n",
       "2012-08-03   1.793333   1.836667   1.782667   1.818000  18142500\n",
       "2014-08-12  17.205334  17.353333  16.972000  17.330667  95734500\n",
       "2014-03-13  16.252666  16.279333  15.600000  15.852667  93544500"
      ]
     },
     "execution_count": 21,
     "metadata": {},
     "output_type": "execute_result"
    }
   ],
   "source": [
    "some_data"
   ]
  },
  {
   "cell_type": "code",
   "execution_count": 22,
   "id": "b179b550-6cc4-4d8c-9697-377a022218d1",
   "metadata": {},
   "outputs": [],
   "source": [
    "prepared_data = my_pipeline.transform(some_data)"
   ]
  },
  {
   "cell_type": "code",
   "execution_count": 23,
   "id": "066ec138-904b-45ab-8ced-79689b1bc125",
   "metadata": {},
   "outputs": [
    {
     "data": {
      "text/plain": [
       "array([16.59905954, 15.81852027,  1.81713335, 17.33042717, 15.85092671])"
      ]
     },
     "execution_count": 23,
     "metadata": {},
     "output_type": "execute_result"
    }
   ],
   "source": [
    "model.predict(prepared_data)"
   ]
  },
  {
   "cell_type": "markdown",
   "id": "231b1290-3d25-45d8-a0ef-eaa32abe0861",
   "metadata": {},
   "source": [
    "## Evaluating"
   ]
  },
  {
   "cell_type": "code",
   "execution_count": 24,
   "id": "43fb078f-af63-4065-a3f7-cb30485ec050",
   "metadata": {},
   "outputs": [],
   "source": [
    "from sklearn.model_selection import cross_val_score\n",
    "scores = cross_val_score(model, stock_num_tr, stock_labels, scoring='neg_mean_squared_error', cv = 10)\n",
    "rmse_scores = np.sqrt(-scores)"
   ]
  },
  {
   "cell_type": "code",
   "execution_count": 25,
   "id": "7c4d5f5a-6448-4e7e-833e-3af0cafbea71",
   "metadata": {},
   "outputs": [
    {
     "name": "stdout",
     "output_type": "stream",
     "text": [
      "scores:  [0.28281478 0.37720133 0.5370665  0.79367051 0.35290922 0.67143977\n",
      " 0.69006735 0.36768797 0.76301101 0.44794651]\n",
      "mean:  0.5283814952784353\n",
      "Standard deviation:  0.17842473296773095\n"
     ]
    }
   ],
   "source": [
    "def print_scores(scores):\n",
    "    print('scores: ', scores)\n",
    "    print('mean: ', scores.mean())\n",
    "    print('Standard deviation: ', scores.std())\n",
    "\n",
    "print_scores(rmse_scores)"
   ]
  },
  {
   "cell_type": "markdown",
   "id": "5d514165-4f2a-4bb2-9394-d5dfb0567da1",
   "metadata": {},
   "source": [
    "## Saving the Model"
   ]
  },
  {
   "cell_type": "code",
   "execution_count": 26,
   "id": "b34130c0-2f60-4d52-8fd1-adfb1fb5927c",
   "metadata": {},
   "outputs": [
    {
     "data": {
      "text/plain": [
       "['stock.joblib']"
      ]
     },
     "execution_count": 26,
     "metadata": {},
     "output_type": "execute_result"
    }
   ],
   "source": [
    "from joblib import dump, load\n",
    "dump(model, \"stock.joblib\")"
   ]
  },
  {
   "cell_type": "markdown",
   "id": "42fb9bb1-e1fe-45de-a912-37a520389a2c",
   "metadata": {},
   "source": [
    "## Testing the Model"
   ]
  },
  {
   "cell_type": "code",
   "execution_count": 27,
   "id": "51c65cef-0abd-43bd-8362-ca5f75766fe5",
   "metadata": {},
   "outputs": [],
   "source": [
    "from sklearn.metrics import mean_squared_error\n",
    "x_test = test_set.drop(\"Close\", axis=1)\n",
    "y_test = test_set['Close'].copy()\n",
    "x_test_prepared_data = my_pipeline.transform(x_test)\n",
    "final = model.predict(x_test_prepared_data)\n",
    "final_mse = mean_squared_error(y_test, final)\n",
    "final_rmse = np.sqrt(final_mse)"
   ]
  },
  {
   "cell_type": "code",
   "execution_count": 28,
   "id": "497c1039-7eab-4360-97a5-0b702b857163",
   "metadata": {},
   "outputs": [
    {
     "data": {
      "text/plain": [
       "array([[-0.1785932 , -0.18391187, -0.16974192, -0.17723965, -0.88073604],\n",
       "       [-0.20243262, -0.20788925, -0.19765284, -0.20221036, -0.44951663],\n",
       "       [-0.65602882, -0.65247852, -0.6588379 , -0.65370368, -0.98005855],\n",
       "       [-0.15727796, -0.16379776, -0.15293318, -0.15366568, -0.08184973],\n",
       "       [-0.18810741, -0.19762222, -0.1986298 , -0.20130781, -0.10720128]])"
      ]
     },
     "execution_count": 28,
     "metadata": {},
     "output_type": "execute_result"
    }
   ],
   "source": [
    "prepared_data"
   ]
  },
  {
   "cell_type": "markdown",
   "id": "d8851859-1a9f-44b1-91bc-47b1a2633140",
   "metadata": {},
   "source": [
    "## Using the model"
   ]
  },
  {
   "cell_type": "code",
   "execution_count": 29,
   "id": "c470f794-aa22-4ed1-84bc-2d0006e729cc",
   "metadata": {},
   "outputs": [
    {
     "data": {
      "text/plain": [
       "array([16.59905954])"
      ]
     },
     "execution_count": 29,
     "metadata": {},
     "output_type": "execute_result"
    }
   ],
   "source": [
    "features = np.array([[-0.1785932 , -0.18391187, -0.16974192, -0.17723965, -0.88073604]])\n",
    "model.predict(features)"
   ]
  }
 ],
 "metadata": {
  "kernelspec": {
   "display_name": "Python 3 (ipykernel)",
   "language": "python",
   "name": "python3"
  },
  "language_info": {
   "codemirror_mode": {
    "name": "ipython",
    "version": 3
   },
   "file_extension": ".py",
   "mimetype": "text/x-python",
   "name": "python",
   "nbconvert_exporter": "python",
   "pygments_lexer": "ipython3",
   "version": "3.11.5"
  }
 },
 "nbformat": 4,
 "nbformat_minor": 5
}
